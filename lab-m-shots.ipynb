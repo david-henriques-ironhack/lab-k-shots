{
  "cells": [
    {
      "cell_type": "markdown",
      "id": "24b19fff-8f42-4e9f-a73e-00cff106805a",
      "metadata": {
        "id": "24b19fff-8f42-4e9f-a73e-00cff106805a"
      },
      "source": [
        "# M-Shots Learning"
      ]
    },
    {
      "cell_type": "markdown",
      "id": "34723a72-1601-4685-a0ba-bff544425d48",
      "metadata": {
        "id": "34723a72-1601-4685-a0ba-bff544425d48"
      },
      "source": [
        "In this notebook, we'll explore small prompt engineering techniques and recommendations that will help us elicit responses from the models that are better suited to our needs."
      ]
    },
    {
      "cell_type": "code",
      "source": [
        "with open(\"openai-api.txt\", \"r\") as file:\n",
        "    api_key = file.read().strip()"
      ],
      "metadata": {
        "id": "o2k0y2bacKlf"
      },
      "id": "o2k0y2bacKlf",
      "execution_count": 1,
      "outputs": []
    },
    {
      "cell_type": "code",
      "execution_count": 2,
      "id": "fba193cc-d8a0-4ad2-8177-380204426859",
      "metadata": {
        "id": "fba193cc-d8a0-4ad2-8177-380204426859",
        "colab": {
          "base_uri": "https://localhost:8080/",
          "height": 35
        },
        "outputId": "06461a9d-d31b-41ca-d417-96c2ec040656"
      },
      "outputs": [
        {
          "output_type": "execute_result",
          "data": {
            "text/plain": [
              "'from dotenv import load_dotenv, find_dotenv\\n_ = load_dotenv(find_dotenv()) # read local .env file\\n\\nOPENAI_API_KEY  = os.getenv(api_key)'"
            ],
            "application/vnd.google.colaboratory.intrinsic+json": {
              "type": "string"
            }
          },
          "metadata": {},
          "execution_count": 2
        }
      ],
      "source": [
        "\n",
        "\n",
        "from openai import OpenAI\n",
        "import os\n",
        "\n",
        "'''from dotenv import load_dotenv, find_dotenv\n",
        "_ = load_dotenv(find_dotenv()) # read local .env file\n",
        "\n",
        "OPENAI_API_KEY  = os.getenv(api_key)'''"
      ]
    },
    {
      "cell_type": "markdown",
      "id": "502cfc93-21e0-498f-9650-37bc6ddd514d",
      "metadata": {
        "id": "502cfc93-21e0-498f-9650-37bc6ddd514d"
      },
      "source": [
        "# Formatting the answer with Few Shot Samples.\n",
        "\n",
        "To obtain the model's response in a specific format, we have various options, but one of the most convenient is to use Few-Shot Samples. This involves presenting the model with pairs of user queries and example responses.\n",
        "\n",
        "Large models like GPT-3.5 respond well to the examples provided, adapting their response to the specified format.\n",
        "\n",
        "Depending on the number of examples given, this technique can be referred to as:\n",
        "* Zero-Shot.\n",
        "* One-Shot.\n",
        "* Few-Shots.\n",
        "\n",
        "With One Shot should be enough, and it is recommended to use a maximum of six shots. It's important to remember that this information is passed in each query and occupies space in the input prompt.\n",
        "\n"
      ]
    },
    {
      "cell_type": "code",
      "execution_count": 3,
      "id": "a8344712-06d7-4c24-83d8-f36d62926e5e",
      "metadata": {
        "id": "a8344712-06d7-4c24-83d8-f36d62926e5e"
      },
      "outputs": [],
      "source": [
        "# Function to call the model.\n",
        "def return_OAIResponse(user_message, context):\n",
        "    client = OpenAI(\n",
        "    # This is the default and can be omitted\n",
        "    api_key=api_key,\n",
        ")\n",
        "\n",
        "    newcontext = context.copy()\n",
        "    newcontext.append({'role':'user', 'content':\"question: \" + user_message})\n",
        "\n",
        "    response = client.chat.completions.create(\n",
        "            model = \"gpt-3.5-turbo\",\n",
        "            messages=newcontext,\n",
        "            temperature=1,\n",
        "        )\n",
        "\n",
        "    return (response.choices[0].message.content)"
      ]
    },
    {
      "cell_type": "markdown",
      "id": "f611d73d-9330-466d-b705-543667e1b561",
      "metadata": {
        "id": "f611d73d-9330-466d-b705-543667e1b561"
      },
      "source": [
        "In this zero-shots prompt we obtain a correct response, but without formatting, as the model incorporates the information he wants."
      ]
    },
    {
      "cell_type": "code",
      "execution_count": 4,
      "id": "647790be-fdb8-4692-a82e-7e3a0220f72a",
      "metadata": {
        "colab": {
          "base_uri": "https://localhost:8080/"
        },
        "id": "647790be-fdb8-4692-a82e-7e3a0220f72a",
        "outputId": "b6a64963-e4fc-4b24-9139-6dfaa11a4fba"
      },
      "outputs": [
        {
          "output_type": "stream",
          "name": "stdout",
          "text": [
            "Sebastian Vettel won the Formula 1 World Championship in 2010. He drove for Red Bull Racing and secured his first of four consecutive drivers' titles that season.\n"
          ]
        }
      ],
      "source": [
        "#zero-shot\n",
        "context_user = [\n",
        "    {'role':'system', 'content':'You are an expert in F1.'}\n",
        "]\n",
        "print(return_OAIResponse(\"Who won the F1 2010?\", context_user))"
      ]
    },
    {
      "cell_type": "markdown",
      "id": "e87a9a0a-c1b9-4759-b52f-f6547d29b4c8",
      "metadata": {
        "id": "e87a9a0a-c1b9-4759-b52f-f6547d29b4c8"
      },
      "source": [
        "For a model as large and good as GPT 3.5, a single shot is enough to learn the output format we expect.\n"
      ]
    },
    {
      "cell_type": "code",
      "execution_count": 5,
      "id": "33ac7693-6cf3-44f7-b2ff-55d8a36fe775",
      "metadata": {
        "colab": {
          "base_uri": "https://localhost:8080/"
        },
        "id": "33ac7693-6cf3-44f7-b2ff-55d8a36fe775",
        "outputId": "89e19cfb-cb2a-4b70-fba5-1ab9ae841b1f"
      },
      "outputs": [
        {
          "output_type": "stream",
          "name": "stdout",
          "text": [
            "Driver: Sebastian Vettel.\n",
            "Team: Red Bull Racing.\n"
          ]
        }
      ],
      "source": [
        "#one-shot\n",
        "context_user = [\n",
        "    {'role':'system', 'content':\n",
        "     \"\"\"You are an expert in F1.\n",
        "\n",
        "     Who won the 2000 f1 championship?\n",
        "     Driver: Michael Schumacher.\n",
        "     Team: Ferrari.\"\"\"}\n",
        "]\n",
        "print(return_OAIResponse(\"Who won the F1 2011?\", context_user))"
      ]
    },
    {
      "cell_type": "markdown",
      "id": "32c454a8-181b-482b-873a-81d6ffde4674",
      "metadata": {
        "id": "32c454a8-181b-482b-873a-81d6ffde4674"
      },
      "source": [
        "Smaller models, or more complicated formats, may require more than one shot. Here a sample with two shots."
      ]
    },
    {
      "cell_type": "code",
      "execution_count": 7,
      "id": "8ce600f7-f92e-4cf7-be4a-408f12eb39d6",
      "metadata": {
        "colab": {
          "base_uri": "https://localhost:8080/"
        },
        "id": "8ce600f7-f92e-4cf7-be4a-408f12eb39d6",
        "outputId": "5ce3c418-f95a-4a48-eb48-50eee4ff3b10"
      },
      "outputs": [
        {
          "output_type": "stream",
          "name": "stdout",
          "text": [
            "Driver: Fernando Alonso.\n",
            "Team: Renault.\n"
          ]
        }
      ],
      "source": [
        "#Few shots\n",
        "context_user = [\n",
        "    {'role':'system', 'content':\n",
        "     \"\"\"You are an expert in F1.\n",
        "\n",
        "     Who won the 2010 f1 championship?\n",
        "     Driver: Sebastian Vettel.\n",
        "     Team: Red Bull Renault.\n",
        "\n",
        "     Who won the 2009 f1 championship?\n",
        "     Driver: Jenson Button.\n",
        "     Team: BrawnGP.\"\"\"}\n",
        "]\n",
        "print(return_OAIResponse(\"Who won the F1 2006?\", context_user))"
      ]
    },
    {
      "cell_type": "code",
      "execution_count": 8,
      "id": "4b29898a-f715-46d4-b74b-9f95d3112d38",
      "metadata": {
        "colab": {
          "base_uri": "https://localhost:8080/"
        },
        "id": "4b29898a-f715-46d4-b74b-9f95d3112d38",
        "outputId": "e95c9d14-3794-46fc-8837-b21398fea9ca"
      },
      "outputs": [
        {
          "output_type": "stream",
          "name": "stdout",
          "text": [
            "The 2019 F1 Championship was won by Lewis Hamilton of Mercedes.\n"
          ]
        }
      ],
      "source": [
        "print(return_OAIResponse(\"Who won the F1 2019?\", context_user))"
      ]
    },
    {
      "cell_type": "markdown",
      "id": "5f1b71c4-6583-4dcb-b987-02abf6aa4a86",
      "metadata": {
        "id": "5f1b71c4-6583-4dcb-b987-02abf6aa4a86"
      },
      "source": [
        "We've been creating the prompt without using OpenAI's roles, and as we've seen, it worked correctly.\n",
        "\n",
        "However, the proper way to do this is by using these roles to construct the prompt, making the model's learning process even more effective.\n",
        "\n",
        "By not feeding it the entire prompt as if they were system commands, we enable the model to learn from a conversation, which is more realistic for it."
      ]
    },
    {
      "cell_type": "code",
      "execution_count": 9,
      "id": "20fa4a25-01a6-4f22-98db-ab7ccc9ba115",
      "metadata": {
        "colab": {
          "base_uri": "https://localhost:8080/"
        },
        "id": "20fa4a25-01a6-4f22-98db-ab7ccc9ba115",
        "outputId": "bad9c6ef-a554-4805-fc92-24b6ad6eff2b"
      },
      "outputs": [
        {
          "output_type": "stream",
          "name": "stdout",
          "text": [
            "Driver: Lewis Hamilton. \n",
            "Team: Mercedes. \n",
            "Points: 413.\n"
          ]
        }
      ],
      "source": [
        "#Recomended solution\n",
        "context_user = [\n",
        "    {'role':'system', 'content':'You are and expert in f1.\\n\\n'},\n",
        "    {'role':'user', 'content':'Who won the 2010 f1 championship?'},\n",
        "    {'role':'assistant', 'content':\"\"\"Driver: Sebastian Vettel. \\nTeam: Red Bull. \\nPoints: 256. \"\"\"},\n",
        "    {'role':'user', 'content':'Who won the 2009 f1 championship?'},\n",
        "    {'role':'assistant', 'content':\"\"\"Driver: Jenson Button. \\nTeam: BrawnGP. \\nPoints: 95. \"\"\"},\n",
        "]\n",
        "\n",
        "print(return_OAIResponse(\"Who won the F1 2019?\", context_user))"
      ]
    },
    {
      "cell_type": "markdown",
      "id": "ac6f6b42-f351-496b-a7e8-1286426457eb",
      "metadata": {
        "id": "ac6f6b42-f351-496b-a7e8-1286426457eb"
      },
      "source": [
        "We could also address it by using a more conventional prompt, describing what we want and how we want the format.\n",
        "\n",
        "However, it's essential to understand that in this case, the model is following instructions, whereas in the case of use shots, it is learning in real-time during inference."
      ]
    },
    {
      "cell_type": "code",
      "execution_count": 10,
      "id": "36c32a32-c348-45b2-85ee-ab4500438c49",
      "metadata": {
        "colab": {
          "base_uri": "https://localhost:8080/"
        },
        "id": "36c32a32-c348-45b2-85ee-ab4500438c49",
        "outputId": "a29d7352-5b2e-4a6e-d92e-b320d1ac68ef"
      },
      "outputs": [
        {
          "output_type": "stream",
          "name": "stdout",
          "text": [
            "Drive: Lewis Hamilton\n",
            "Team: Mercedes\n",
            "Points: 413\n"
          ]
        }
      ],
      "source": [
        "context_user = [\n",
        "    {'role':'system', 'content':\"\"\"You are and expert in f1.\n",
        "    You are going to answer the question of the user giving the name of the rider,\n",
        "    the name of the team and the points of the champion, following the format:\n",
        "    Drive:\n",
        "    Team:\n",
        "    Points: \"\"\"\n",
        "    }\n",
        "]\n",
        "\n",
        "print(return_OAIResponse(\"Who won the F1 2019?\", context_user))"
      ]
    },
    {
      "cell_type": "code",
      "execution_count": 11,
      "id": "KNDL1GzVngyL",
      "metadata": {
        "id": "KNDL1GzVngyL",
        "colab": {
          "base_uri": "https://localhost:8080/"
        },
        "outputId": "cae58afc-6b1b-4c46-d8a5-5e5717262219"
      },
      "outputs": [
        {
          "output_type": "stream",
          "name": "stdout",
          "text": [
            "Driver: Fernando Alonso.\n",
            "Team: Renault.\n"
          ]
        }
      ],
      "source": [
        "context_user = [\n",
        "    {'role':'system', 'content':\n",
        "     \"\"\"You are classifying .\n",
        "\n",
        "     Who won the 2010 f1 championship?\n",
        "     Driver: Sebastian Vettel.\n",
        "     Team: Red Bull Renault.\n",
        "\n",
        "     Who won the 2009 f1 championship?\n",
        "     Driver: Jenson Button.\n",
        "     Team: BrawnGP.\"\"\"}\n",
        "]\n",
        "print(return_OAIResponse(\"Who won the F1 2006?\", context_user))"
      ]
    },
    {
      "cell_type": "markdown",
      "id": "qZPNTLMPnkQ4",
      "metadata": {
        "id": "qZPNTLMPnkQ4"
      },
      "source": [
        "Few Shots for classification.\n"
      ]
    },
    {
      "cell_type": "code",
      "execution_count": 12,
      "id": "ejcstgTxnnX5",
      "metadata": {
        "colab": {
          "base_uri": "https://localhost:8080/"
        },
        "id": "ejcstgTxnnX5",
        "outputId": "80468709-ffe1-4662-e63f-8bc1b9f760a7"
      },
      "outputs": [
        {
          "output_type": "stream",
          "name": "stdout",
          "text": [
            "Sentiment: Negative\n"
          ]
        }
      ],
      "source": [
        "context_user = [\n",
        "    {'role':'system', 'content':\n",
        "     \"\"\"You are an expert in reviewing product opinions and classifying them as positive or negative.\n",
        "\n",
        "     It fulfilled its function perfectly, I think the price is fair, I would buy it again.\n",
        "     Sentiment: Positive\n",
        "\n",
        "     It didn't work bad, but I wouldn't buy it again, maybe it's a bit expensive for what it does.\n",
        "     Sentiment: Negative.\n",
        "\n",
        "     I wouldn't know what to say, my son uses it, but he doesn't love it.\n",
        "     Sentiment: Neutral\n",
        "     \"\"\"}\n",
        "]\n",
        "print(return_OAIResponse(\"I'm not going to return it, but I don't plan to buy it again.\", context_user))"
      ]
    },
    {
      "cell_type": "markdown",
      "id": "ffe1d50b-d262-4e74-8f2d-3559f3fcfb15",
      "metadata": {
        "id": "ffe1d50b-d262-4e74-8f2d-3559f3fcfb15"
      },
      "source": [
        "# Exercise\n",
        " - Complete the prompts similar to what we did in class.\n",
        "     - Try at least 3 versions\n",
        "     - Be creative\n",
        " - Write a one page report summarizing your findings.\n",
        "     - Were there variations that didn't work well? i.e., where GPT either hallucinated or wrong\n",
        " - What did you learn?"
      ]
    },
    {
      "cell_type": "code",
      "source": [
        "from openai import OpenAI\n",
        "import os\n",
        "\n",
        "client = OpenAI(api_key= api_key)\n",
        "\n",
        "model = 'gpt-4o-mini'"
      ],
      "metadata": {
        "id": "eCuiNUwkI88u"
      },
      "id": "eCuiNUwkI88u",
      "execution_count": 13,
      "outputs": []
    },
    {
      "cell_type": "code",
      "source": [
        "#Classification\n",
        "\n",
        "def city_prompt(description):\n",
        "    return f\"\"\"In the following I am going to give you the description of a city.\n",
        "\n",
        "###TASK###\n",
        "Read the TRIP description carefully and return a score for how AFFORDABLE the TRIP is, how SAFE the place is is and how much TOURISTIC the city can be. For each of the three characteristics (BUDGET, SAFE, TOURISTIC) return a score from 1 to 10.\n",
        "\n",
        "###CONTEXT###\n",
        "We are going to use these scores to greenlight cities. It is very important to ge these scores correctly as my job depends on that. The company usually greenlights touristic cities.\n",
        "\n",
        "###FORMAT###\n",
        "Reply only with the three characteristics (BUDGET, SAFE, TOURISTIC) followed by the score for each of them.\n",
        "\n",
        "\n",
        "\n",
        "I will now give you the cities\n",
        "\n",
        "CITY: {description}\"\"\""
      ],
      "metadata": {
        "id": "2uTo7r7oG1lt"
      },
      "id": "2uTo7r7oG1lt",
      "execution_count": 14,
      "outputs": []
    },
    {
      "cell_type": "code",
      "source": [
        "city1 = \"Rio de Janeiro, or simply Rio, is the capital of the state of Rio de Janeiro. It is the second-most-populous city in Brazil (after São Paulo) and the sixth-most-populous city in the Americas. Founded in 1565 by the Portuguese, the city was initially the seat of the Captaincy of Rio de Janeiro, a domain of the Portuguese Empire. In 1763, it became the capital of the State of Brazil, a state of the Portuguese Empire. In 1808, when the Portuguese Royal Court moved to Brazil, Rio de Janeiro became the seat of the court of Queen Maria I of Portugal. She subsequently, under the leadership of her son the prince regent John VI of Portugal, raised Brazil to the dignity of a kingdom, within the United Kingdom of Portugal, Brazil, and Algarves. Rio remained as the capital of the pluricontinental monarchy until 1822, when the Brazilian War of Independence began. This is one of the few instances in history that the capital of a colonizing country officially shifted to a city in one of its colonies. Rio de Janeiro subsequently served as the capital of the independent monarchy, the Empire of Brazil, until 1889, and then the capital of a republican Brazil until 1960 when the capital was transferred to Brasília.\"\n",
        "city2 = \"Bogotá, officially Bogotá, Distrito Capital, abbreviated Bogotá, D.C., and formerly known as Santa Fe de Bogotá (Spanish: [ˌsanta ˈfe ðe βoɣoˈta]; lit. 'Holy Faith of Bogotá') during the Spanish Colonial period and between 1991 and 2000, is the capital and largest city of Colombia, and one of the largest cities in the world. The city is administered as the Capital District, as well as the capital of, though not politically part of, the surrounding department of Cundinamarca.[16] Bogotá is a territorial entity of the first order, with the same administrative status as the departments of Colombia. It is the main political, economic, administrative, industrial, cultural, aeronautical, technological, scientific, medical and educational center of the country and northern South America. Bogotá was founded as the capital of the New Kingdom of Granada on 6 August 1538 by Spanish conquistador Gonzalo Jiménez de Quesada after a harsh expedition into the Andes conquering the Muisca, the indigenous inhabitants of the Altiplano. Santafé (its name after 1540) became the seat of the government of the Spanish Royal Audiencia of the New Kingdom of Granada (created in 1550), and then after 1717 it was the capital of the Viceroyalty of New Granada. After the Battle of Boyacá on 7 August 1819, Bogotá became the capital of the independent nation of Gran Colombia. It was Simón Bolívar who rebaptized the city with the name of Bogotá, as a way of honoring the Muisca people and as an emancipation act towards the Spanish crown.[23] Hence, since the Viceroyalty of New Granada's independence from the Spanish Empire and during the formation of present-day Colombia, Bogotá has remained the capital of this territory.\"\n",
        "city3 = \"Zurich is the largest city in Switzerland and the capital of the canton of Zurich. It is located in north-central Switzerland,[5] at the northwestern tip of Lake Zurich. As of January 2023, the municipality had 443,037 inhabitants,[6] the urban area 1.315 million (2009),[7] and the Zurich metropolitan area 1.83 million (2011).[8] Zurich is a hub for railways, roads, and air traffic. Both Zurich Airport and Zurich's main railway station are the largest and busiest in the country. Permanently settled for over 2,000 years, Zurich was founded by the Romans, who called it Turicum. However, early settlements have been found dating back more than 6,400 years (although this only indicates human presence in the area and not the presence of a town that early).[9] During the Middle Ages, Zurich gained the independent and privileged status of imperial immediacy and, in 1519, became a primary centre of the Protestant Reformation in Europe under the leadership of Huldrych Zwingli.[10]\"\n",
        "city4 = \"Moscow[a] is the capital and largest city of Russia. The city stands on the Moskva River in Central Russia, with a population estimated at over 13 million residents within the city limits,[6] over 19.1 million residents in the urban area,[7] and over 21.5 million residents in its metropolitan area.[14] The city covers an area of 2,511 square kilometers (970 sq mi), while the urban area covers 5,891 square kilometers (2,275 sq mi),[7] and the metropolitan area covers over 26,000 square kilometers (10,000 sq mi).[14] Moscow is among the world's largest cities, being the most populous city in its entirety in Europe, the largest urban and metropolitan area in Europe,[7][14] and the largest city by land area on the European continent.[15] First documented in 1147, Moscow grew to serve as the capital of the Grand Duchy of Moscow. When the Tsardom of Russia was proclaimed, Moscow remained the political and economic center for most of its history. Under the reign of Peter the Great, the Russian capital was moved to the newly founded city of Saint Petersburg in 1712, decreasing Moscow's influence. Following the Russian Revolution and the establishment of the Russian SFSR, the capital was moved back to Moscow in 1918, where it later became the political center of the Soviet Union.[16] In the aftermath of the dissolution of the Soviet Union, Moscow remained the capital city of the newly established Russian Federation.\""
      ],
      "metadata": {
        "id": "Xi-vin9cGG1i"
      },
      "id": "Xi-vin9cGG1i",
      "execution_count": 15,
      "outputs": []
    },
    {
      "cell_type": "code",
      "source": [
        "response = client.chat.completions.create(\n",
        "            model=model,\n",
        "            messages=[\n",
        "                {\"role\": \"system\", \"content\":\"You are a discerning movie critic\"},\n",
        "                {\"role\": \"user\", \"content\": city_prompt(city1)} ],\n",
        "            max_tokens=200,\n",
        "            temperature=0.01\n",
        "        )\n",
        "print(response.choices[0].message.content)"
      ],
      "metadata": {
        "colab": {
          "base_uri": "https://localhost:8080/"
        },
        "id": "iDd6p-yAIlPt",
        "outputId": "e5b9acc2-8290-4456-c277-2f4bcb1b6315"
      },
      "id": "iDd6p-yAIlPt",
      "execution_count": 27,
      "outputs": [
        {
          "output_type": "stream",
          "name": "stdout",
          "text": [
            "BUDGET: 6  \n",
            "SAFE: 5  \n",
            "TOURISTIC: 9  \n"
          ]
        }
      ]
    },
    {
      "cell_type": "code",
      "source": [
        "response = client.chat.completions.create(\n",
        "            model=model,\n",
        "            messages=[\n",
        "                {\"role\": \"system\", \"content\":\"You are a discerning movie critic\"},\n",
        "                {\"role\": \"user\", \"content\": city_prompt(city2)} ],\n",
        "            max_tokens=200,\n",
        "            temperature=0.01\n",
        "        )\n",
        "print(response.choices[0].message.content)"
      ],
      "metadata": {
        "colab": {
          "base_uri": "https://localhost:8080/"
        },
        "id": "x3hesvAxKu9l",
        "outputId": "6d7344d3-257c-426f-b261-7bd2239db600"
      },
      "id": "x3hesvAxKu9l",
      "execution_count": 26,
      "outputs": [
        {
          "output_type": "stream",
          "name": "stdout",
          "text": [
            "BUDGET: 7  \n",
            "SAFE: 5  \n",
            "TOURISTIC: 8  \n"
          ]
        }
      ]
    },
    {
      "cell_type": "code",
      "source": [
        "response = client.chat.completions.create(\n",
        "            model=model,\n",
        "            messages=[\n",
        "                {\"role\": \"system\", \"content\":\"You are a discerning movie critic\"},\n",
        "                {\"role\": \"user\", \"content\": city_prompt(city3)} ],\n",
        "            max_tokens=200,\n",
        "            temperature=0.01\n",
        "        )\n",
        "print(response.choices[0].message.content)"
      ],
      "metadata": {
        "colab": {
          "base_uri": "https://localhost:8080/"
        },
        "id": "7oCOUlWtK0ZK",
        "outputId": "c5c5dc15-be34-4e0b-90f9-c17bc297d1c3"
      },
      "id": "7oCOUlWtK0ZK",
      "execution_count": 18,
      "outputs": [
        {
          "output_type": "stream",
          "name": "stdout",
          "text": [
            "BUDGET: 3  \n",
            "SAFE: 9  \n",
            "TOURISTIC: 7  \n"
          ]
        }
      ]
    },
    {
      "cell_type": "code",
      "source": [
        "response = client.chat.completions.create(\n",
        "            model=model,\n",
        "            messages=[\n",
        "                {\"role\": \"system\", \"content\":\"You are a discerning movie critic\"},\n",
        "                {\"role\": \"user\", \"content\": city_prompt(city4)} ],\n",
        "            max_tokens=200,\n",
        "            temperature=0.01\n",
        "        )\n",
        "print(response.choices[0].message.content)"
      ],
      "metadata": {
        "colab": {
          "base_uri": "https://localhost:8080/"
        },
        "id": "Upob_T6WK4BY",
        "outputId": "dbedfe04-924b-4956-c1d2-c7a857c34d0c"
      },
      "id": "Upob_T6WK4BY",
      "execution_count": 19,
      "outputs": [
        {
          "output_type": "stream",
          "name": "stdout",
          "text": [
            "BUDGET: 5  \n",
            "SAFE: 6  \n",
            "TOURISTIC: 8  \n"
          ]
        }
      ]
    },
    {
      "cell_type": "code",
      "execution_count": 20,
      "id": "9adda59c-ad09-4e9d-88cd-54f42384a5f3",
      "metadata": {
        "id": "9adda59c-ad09-4e9d-88cd-54f42384a5f3"
      },
      "outputs": [],
      "source": [
        "#Few Shots\n",
        "\n",
        "messages_with_few_shot=[\n",
        "    {\"role\": \"system\", \"content\":\"You are a expert travel consultant\"},\n",
        "    {\"role\": \"user\", \"content\": \"\"\"In the following I am going to give you the specs of a TRIP.\n",
        "\n",
        "###TASK###\n",
        "Read the TRIP description carefully and return a score for how AFFORDABLE the TRIP is, how SAFE the place is is and how much TOURISTIC the city can be. For each of the three characteristics (BUDGET, SAFE, TOURISTIC) return a score from 1 to 10.\n",
        "\n",
        "###CONTEXT###\n",
        "We are going to use these scores to greenlight cities. It is very important to ge these scores correctly as my job depends on that. The company usually greenlights touristic cities.\n",
        "\n",
        "###FORMAT###\n",
        "Reply only with the three characteristics (BUDGET, SAFE, TOURISTIC) followed by the score for each of them.\n",
        "\n",
        "\n",
        "I will now give you the movies\n",
        "\n",
        "CITY: Paris is the capital and largest city of France. With an estimated population of 2,102,650 residents in January 2023[2] in an area of more than 105 km2 (41 sq mi),[5] Paris is the fourth-most populous city in the European Union, the ninth-most populous city in Europe and the 30th most densely populated city in the world in 2022.[6] Since the 17th century, Paris has been one of the world's major centres of finance, diplomacy, commerce, culture, fashion, and gastronomy. Because of its leading role in the arts and sciences and its early adaptation of extensive street lighting, it became known as the City of Light in the 19th century.[7]\n",
        "The City of Paris is the centre of the Île-de-France region, or Paris Region, with an official estimated population of 12,271,794 inhabitants in January 2023, or about 19% of the population of France.[2] The Paris Region had a nominal GDP of €765 billion (US$1.064 trillion when adjusted for PPP)[8] in 2021, the highest in the European Union.[9] According to the Economist Intelligence Unit Worldwide Cost of Living Survey, in 2022, Paris was the city with the ninth-highest cost of living in the world\"\"\"},\n",
        "    {\"role\": \"assistant\", \"content\": \"BUDGET - 4, SAFE - 6, TOURISTIC - 10\"},\n",
        "    {\"role\": \"user\", \"content\":\"CITY: Dublin is the capital city of Ireland.[11][12] On a bay at the mouth of the River Liffey, it is in the province of Leinster, bordered on the south by the Dublin Mountains, a part of the Wicklow Mountains range. At the 2022 census, the city council area had a population of 592,713, while Dublin and its suburbs had a population of 1,263,219, and County Dublin had a population of 1,501,500,[3][13][14] making it the largest city by population on the island of Ireland. A settlement was established in the area by the Gaels during or before the 7th century,[15] followed by the Vikings. As the Kingdom of Dublin grew, it became Ireland's principal settlement by the 12th century Anglo-Norman invasion of Ireland.[15] The city expanded rapidly from the 17th century and was briefly the second largest in the British Empire and sixth largest in Western Europe after the Acts of Union in 1800.[16] Following independence in 1922, Dublin became the capital of the Irish Free State, renamed Ireland in 1937. As of 2018, the city was listed by the Globalization and World Cities Research Network (GaWC) as a global city, with a ranking of Alpha minus, which placed it among the top thirty cities in the world.[17][18]\"},\n",
        "    {\"role\": \"assistant\", \"content\": \"BUDGET - 3, SAFE - 8, TOURISTIC- 7\"},\n",
        "    {\"role\": \"user\", \"content\":\"CITY: Marrakesh or Marrakech is the fourth-largest city in Morocco.[2] It is one of the four imperial cities of Morocco and is the capital of the Marrakesh–Safi region. The city lies west of the foothills of the Atlas Mountains. The city was founded circa 1070 by Abu Bakr ibn Umar as the capital of the Almoravid dynasty. The Almoravids established the first major structures in the city and shaped its layout for centuries to come. The red walls of the city, built by Ali ibn Yusuf in 1122–1123, and various buildings constructed in red sandstone afterwards, have given the city the nickname of the Red City or Ochre City. Marrakesh grew rapidly and established itself as a cultural, religious, and trading center for the Maghreb. After a period of decline, Marrakesh regained its status in the early 16th century as the capital of the Saadian dynasty, with sultans Abdallah al-Ghalib and Ahmad al-Mansur embellishing the city with an array of sumptuous monuments. Beginning in the 17th century, the city became popular among Sufi pilgrims for its seven patron saints who are buried here. In 1912, the French Protectorate in Morocco was established and T'hami El Glaoui became Pasha of Marrakesh and generally held this position until the independence of Morocco and the reestablishment of the monarchy in 1956.\"},\n",
        "    {\"role\": \"assistant\", \"content\": \"BUDGET - 8, SAFE - 2, TOURISTIC - 6\"},\n",
        "    {\"role\": \"user\", \"content\":\"CITY: Perth is the capital city of Western Australia. It is the fourth most populous city in Australia, with a population of over 2.3 million within Greater Perth as of 2023. It is part of the South West Land Division of Western Australia, with most of Perth's metropolitan area on the Swan Coastal Plain between the Indian Ocean and the Darling Scarp. The city has expanded outward from the original British settlements on the Swan River, upon which its central business district and port of Fremantle are situated. Perth was founded by Captain James Stirling in 1829 as the administrative centre of the Swan River Colony. The city is situated on the traditional lands of the Whadjuk Noongar people, where Aboriginal Australians have lived for at least 45,000 years. Perth was named after the city of Perth in Scotland.[6] Perth was proclaimed as a city by Queen Victoria in 1856,[7] although the City of Perth currently governs only a small area around the central business district. Substantial population growth occurred during the late 19th-century Western Australian gold rushes, and the city has continued to expand, particularly after World War II due to a high net migration rate. Post-war immigrants were predominantly from the British Isles and Southern Europe, while more recent arrivals see a growing population of Asian descent. During the late 20th and early 21st centuries, a series of mining booms in various regions of Western Australia propelled Perth into the role of the regional headquarters for significant mining operations.\"},\n",
        "    {\"role\": \"assistant\", \"content\": \"BUDGET - 4, SAFE - 10, TOURISTIC - 5\"},\n",
        "]"
      ]
    },
    {
      "cell_type": "code",
      "source": [
        "response = client.chat.completions.create(\n",
        "            model=model,\n",
        "            messages = messages_with_few_shot + [{\"role\": \"user\", \"content\":city1}],\n",
        "            max_tokens=200,\n",
        "            temperature=0.01\n",
        "        )\n",
        "print(response.choices[0].message.content)\n"
      ],
      "metadata": {
        "colab": {
          "base_uri": "https://localhost:8080/"
        },
        "id": "rSj0x31YFftX",
        "outputId": "6dcba3bd-bc2c-42c8-e19e-a0100340b51d"
      },
      "id": "rSj0x31YFftX",
      "execution_count": 21,
      "outputs": [
        {
          "output_type": "stream",
          "name": "stdout",
          "text": [
            "BUDGET - 6, SAFE - 4, TOURISTIC - 9\n"
          ]
        }
      ]
    },
    {
      "cell_type": "code",
      "source": [
        "response = client.chat.completions.create(\n",
        "            model=model,\n",
        "            messages = messages_with_few_shot + [{\"role\": \"user\", \"content\":city2}],\n",
        "            max_tokens=200,\n",
        "            temperature=0.01\n",
        "        )\n",
        "print(response.choices[0].message.content)"
      ],
      "metadata": {
        "colab": {
          "base_uri": "https://localhost:8080/"
        },
        "id": "uFFXCQ_dK_h8",
        "outputId": "d316b142-368e-4b18-ab9c-ed477c047655"
      },
      "id": "uFFXCQ_dK_h8",
      "execution_count": 22,
      "outputs": [
        {
          "output_type": "stream",
          "name": "stdout",
          "text": [
            "BUDGET - 7, SAFE - 4, TOURISTIC - 6\n"
          ]
        }
      ]
    },
    {
      "cell_type": "code",
      "source": [
        "response = client.chat.completions.create(\n",
        "            model=model,\n",
        "            messages = messages_with_few_shot + [{\"role\": \"user\", \"content\":city3}],\n",
        "            max_tokens=200,\n",
        "            temperature=0.01\n",
        "        )\n",
        "print(response.choices[0].message.content)"
      ],
      "metadata": {
        "colab": {
          "base_uri": "https://localhost:8080/"
        },
        "id": "PnRQkzXwLDbV",
        "outputId": "9514c5de-88e5-4b6e-ca0d-00028824ec28"
      },
      "id": "PnRQkzXwLDbV",
      "execution_count": 23,
      "outputs": [
        {
          "output_type": "stream",
          "name": "stdout",
          "text": [
            "BUDGET - 3, SAFE - 9, TOURISTIC - 7\n"
          ]
        }
      ]
    },
    {
      "cell_type": "code",
      "source": [
        "response = client.chat.completions.create(\n",
        "            model=model,\n",
        "            messages = messages_with_few_shot + [{\"role\": \"user\", \"content\":city4}],\n",
        "            max_tokens=200,\n",
        "            temperature=0.01\n",
        "        )\n",
        "print(response.choices[0].message.content)"
      ],
      "metadata": {
        "colab": {
          "base_uri": "https://localhost:8080/"
        },
        "id": "Qc0_bor4LG8F",
        "outputId": "712cc505-a74d-4b29-ce5d-e319439ecb76"
      },
      "id": "Qc0_bor4LG8F",
      "execution_count": 24,
      "outputs": [
        {
          "output_type": "stream",
          "name": "stdout",
          "text": [
            "BUDGET - 5, SAFE - 4, TOURISTIC - 8\n"
          ]
        }
      ]
    },
    {
      "cell_type": "code",
      "source": [
        "# Bulk operations\n",
        "\n",
        "def create_suggestion(career):\n",
        "    response = client.chat.completions.create(\n",
        "            model=model,\n",
        "            messages=[\n",
        "                {\"role\": \"system\", \"content\":\"You are a career professional and tell people whether they would succeed or not in a career\"},\n",
        "                {\"role\": \"user\", \"content\": f\"\"\"I want to know with what to work with!\n",
        "\n",
        "Consider the below details from my personality, between $$$ delimiters:\n",
        "\n",
        "###BUSINESS DESCRIPTION###\n",
        "$$$\n",
        "{career}\n",
        "$$$\n",
        "\n",
        "Consider the below details from my personality, between $$$ delimiters:\n",
        "\n",
        "###PERSONALITY###\n",
        "$$$\n",
        "I am an empathetic professional who likes to work in a team.\n",
        "I am a very high risk taker and I usually take decisions and the responsibility.\n",
        "I prefer to make wrong decisions over no decisions.\n",
        "I like to learn new things and expand my knowledge, although some of them are not helpful for my career.\n",
        "I like to do different things, but I don't like to not know at all how my routine is going to be the next day.\n",
        "\n",
        "Key Traits:\n",
        "\n",
        "Empathetic and compassionate\n",
        "Curious and eager to learn\n",
        "Detail-oriented with strong organizational skills\n",
        "A collaborative team player\n",
        "Logical but risk-taker\n",
        "\n",
        "\n",
        "$$$\n",
        "\n",
        "###TASK###\n",
        "Give me an explanation about your response whether I would succeed or not.\n",
        "The list should have a pro and a con with a maximum of 400 words each. You must do a good job, otherwise I will live with my mother forever.\"\"\"},\n",
        "            ],\n",
        "            max_tokens=400,\n",
        "            temperature=1\n",
        "        )\n",
        "    return response.choices[0].message.content"
      ],
      "metadata": {
        "id": "cia0HW7DLJBi"
      },
      "id": "cia0HW7DLJBi",
      "execution_count": 37,
      "outputs": []
    },
    {
      "cell_type": "markdown",
      "source": [
        "### NOTE: This is not me! I am doing it for fun ;)"
      ],
      "metadata": {
        "id": "nVfHG3PaZg2J"
      },
      "id": "nVfHG3PaZg2J"
    },
    {
      "cell_type": "code",
      "source": [
        "career1 = \"A lawyer is trained in the law and helps people solve legal problems. They provide advice, represent clients in court, and help with legal documents like contracts or wills. Lawyers can work for individuals, businesses, or the government to ensure that laws are followed and people’s rights are protected. Lawyers specialize in different areas of the law, such as criminal law, family law, or business law. For example, a criminal lawyer defends someone accused of a crime, while a family lawyer might help with divorces or child custody cases. No matter their specialty, lawyers use their knowledge of the law to find solutions, negotiate agreements, and advocate for their clients' best interests.\"\n",
        "career2 = \"Mary Kay consultants, called beauty consultants, can make income by directly selling to people in their community, and also receive a commission when they recruit others to begin selling under their distribution network.\"\n",
        "career3 = \"A broker is a person or entity that arranges transactions between a buyer and a seller. This may be done for a commission when the deal is executed. A broker who also acts as a seller or as a buyer becomes a principal party to the deal.\"\n",
        "career4 = \"An Ornithologist study birds in their natural habitats or in the laboratory. They also may write research reports and proposals for grants, teach classes, present research to the public, and have administrative duties related to these activities.\""
      ],
      "metadata": {
        "id": "SEDrpfDGZyJg"
      },
      "id": "SEDrpfDGZyJg",
      "execution_count": 38,
      "outputs": []
    },
    {
      "cell_type": "code",
      "source": [
        "career_suggestion = create_suggestion(career1)\n",
        "print(career_suggestion)"
      ],
      "metadata": {
        "colab": {
          "base_uri": "https://localhost:8080/"
        },
        "id": "bY1puTazZ3Cs",
        "outputId": "6bc04c18-6f86-46b7-b763-a95d59084bb7"
      },
      "id": "bY1puTazZ3Cs",
      "execution_count": 39,
      "outputs": [
        {
          "output_type": "stream",
          "name": "stdout",
          "text": [
            "Based on your personality traits and the business description of a lawyer, here’s an analysis of whether you would succeed in a legal career, including both pros and cons.\n",
            "\n",
            "**Pros:**\n",
            "1. **Empathy and Compassion**: Your empathetic nature is an asset in law. Lawyers often need to understand their clients' feelings and perspectives to advocate effectively and provide the necessary support during difficult legal matters. This skill can help forge strong client relationships, making you a trusted advisor in sensitive cases like family law or criminal defense.\n",
            "   \n",
            "2. **Collaborative Team Player**: Law often involves working with a team, whether it’s collaborating with colleagues or consulting experts. Your preference for teamwork aligns well with the legal environment, where collaboration can lead to better outcomes for clients and a more harmonious workplace.\n",
            "\n",
            "3. **Curiosity and Eagerness to Learn**: Your desire to continuously learn is crucial in law, a field that evolves with legislation and case law. Your curiosity can drive you to specialize in niche areas of law that can be both interesting and lucrative.\n",
            "\n",
            "4. **Detail-Oriented and Organized**: Lawyers must be meticulous with details and highly organized, as mistakes can have serious consequences for clients. Your organizational skills would help ensure that documents are thoroughly reviewed, deadlines are met, and cases are managed effectively.\n",
            "\n",
            "**Cons:**\n",
            "1. **High Risk Taking**: While risk-taking can be beneficial in some situations, law often requires a meticulous, cautious approach. Taking rash decisions without thorough consideration can lead to detrimental outcomes for clients and your reputation. Striking a balance between risk and caution is essential.\n",
            "\n",
            "2. **Preference for Some Structure**: You mentioned a dislike for not knowing how your routine will be each day. The legal profession can be unpredictable, with varying cases requiring immediate attention, potential court dates, and shifting priorities. This uncertainty may cause stress for someone who requires a more structured environment.\n",
            "\n",
            "3. **Focus on Decision-Making**: Your inclination to prefer making any decision over\n"
          ]
        }
      ]
    },
    {
      "cell_type": "code",
      "source": [
        "career_suggestion2 = create_suggestion(career2)\n",
        "print(career_suggestion2)"
      ],
      "metadata": {
        "colab": {
          "base_uri": "https://localhost:8080/"
        },
        "id": "ALnDSMAIcK0B",
        "outputId": "c28250dc-06fb-4681-9b60-c678c319089f"
      },
      "id": "ALnDSMAIcK0B",
      "execution_count": 40,
      "outputs": [
        {
          "output_type": "stream",
          "name": "stdout",
          "text": [
            "Considering your personality traits and how they align with a career as a Mary Kay beauty consultant, here's an analysis of your potential success in this field:\n",
            "\n",
            "### Pros\n",
            "\n",
            "1. **Empathetic and Compassionate**: Your empathetic nature is a strong asset in sales, especially in the beauty industry where understanding customer needs and building relationships are crucial. Clients are more likely to trust and buy from someone who genuinely cares about their preferences and concerns.\n",
            "\n",
            "2. **Team Player**: The collaborative aspect of your personality will serve you well when recruiting others to your network. Working effectively with a team can help you boost morale and achieve shared goals, which is essential in a consultancy model that thrives on group dynamics.\n",
            "\n",
            "3. **Risk-Taking**: Your inclination toward risk-taking is beneficial in a direct sales environment where new product launches and dynamic marketing strategies are common. Being willing to try innovative approaches can help differentiate you from competitors.\n",
            "\n",
            "4. **Curiosity and Lifelong Learning**: Your eagerness to learn can be harnessed to master sales techniques, product knowledge, and customer engagement strategies. This adaptability will allow you to stay current in beauty trends and enhance your sales skills.\n",
            "\n",
            "### Cons\n",
            "\n",
            "1. **Need for Routine**: Although you enjoy variety in your work, your dislike for unpredictability might pose a challenge in a commission-based sales career. Income from sales can fluctuate significantly, leading to potential stress or anxiety about financial stability.\n",
            "\n",
            "2. **Decision-Making Under Pressure**: While you prefer making decisions—which is generally advantageous—your tendency to take significant risks without comprehensive foresight may lead you to make hasty decisions that can adversely affect your business.\n",
            "\n",
            "3. **Learning Non-Career-Helpful Skills**: Your instinct to learn a variety of things may distract you from focusing on essential skills directly applicable to your role as a beauty consultant. It’s crucial to ensure that your learning aligns with your business goals.\n",
            "\n",
            "4. **Detail-Oriented vs. Sales Push**: While being detail-oriented\n"
          ]
        }
      ]
    },
    {
      "cell_type": "code",
      "source": [
        "career_suggestion3 = create_suggestion(career3)\n",
        "print(career_suggestion3)"
      ],
      "metadata": {
        "colab": {
          "base_uri": "https://localhost:8080/"
        },
        "id": "M0iMgzWrcXm_",
        "outputId": "3ad3e66b-c4dc-4549-dc42-7e0513ce0b7d"
      },
      "id": "M0iMgzWrcXm_",
      "execution_count": 41,
      "outputs": [
        {
          "output_type": "stream",
          "name": "stdout",
          "text": [
            "Based on your personality traits and the career description of a broker, here’s a breakdown of the pros and cons to determine your potential success in this field.\n",
            "\n",
            "### Pros:\n",
            "1. **Empathy and Compassion**: Your empathetic nature would allow you to connect with clients, understand their needs, and establish trust. This trait is crucial in a brokerage role, as it can lead to repeat business and long-term relationships.\n",
            "\n",
            "2. **Collaborative Team Player**: Brokers often work in teams, whether in a firm or with clients and other stakeholders. Your preference for teamwork can enhance your ability to collaborate effectively, leading to better outcomes for clients and a supportive work environment.\n",
            "\n",
            "3. **Willingness to Learn**: Your eagerness to learn new things can be a significant asset in the constantly changing financial markets. This adaptability allows you to stay on top of market trends, regulations, and new strategies, which is crucial for success as a broker.\n",
            "\n",
            "4. **Decisiveness Under Risk**: As a high-risk taker who prefers making decisions, you are well-suited for the fast-paced environment of brokerage. Your ability to act decisively can lead to opportunities that others may shy away from, potentially resulting in high rewards.\n",
            "\n",
            "5. **Detail-Oriented**: Strong organizational skills and attention to detail are vital in brokerage to ensure that all transactions comply with regulations and are executed correctly. Your detail-oriented nature would help you minimize errors and maximize efficiency.\n",
            "\n",
            "### Cons:\n",
            "1. **High-Stress Environment**: The brokerage field can be stressful, as market fluctuations and high-stakes transactions cause pressure. If emotional challenges arise from this stress, it may negatively impact your performance.\n",
            "\n",
            "2. **Risk and Accountability**: While being a risk-taker has its advantages, it can also lead to significant losses. If decisions don’t pan out, the responsibility can be burdensome, and continuous losses may affect your mental and emotional well-being.\n",
            "\n",
            "3. **Routine Uncertainty**: Given your\n"
          ]
        }
      ]
    },
    {
      "cell_type": "code",
      "source": [
        "career_suggestion4 = create_suggestion(career4)\n",
        "print(career_suggestion4)"
      ],
      "metadata": {
        "colab": {
          "base_uri": "https://localhost:8080/"
        },
        "id": "6cxNXsMzcfDg",
        "outputId": "a1aad623-058c-4e81-cf94-c13a7b02ab1e"
      },
      "id": "6cxNXsMzcfDg",
      "execution_count": 42,
      "outputs": [
        {
          "output_type": "stream",
          "name": "stdout",
          "text": [
            "Based on your personality traits and the nature of the career as an ornithologist, let’s explore the potential for success in this field.\n",
            "\n",
            "### Pros\n",
            "\n",
            "1. **Empathy and Communication Skills**: Your empathetic nature will serve you well in collaborative environments, such as research teams. Being able to communicate effectively and understand the perspectives of others can foster a productive work atmosphere and enhance your ability to present complex information to diverse audiences.\n",
            "\n",
            "2. **Curiosity and Eagerness to Learn**: Ornithology requires a continual engagement with new research, methods, and findings. Your intrinsic motivation to learn will drive you to stay abreast of developments in the field, participate in relevant training sessions, and possibly pursue further education, benefiting both your career and the broader scientific community.\n",
            "\n",
            "3. **Detail Orientation**: Your attention to detail is a critical asset in the scientific realm. Conducting research, writing papers, and collecting data on bird behavior all require precision and thoroughness, qualities that can lead to successful research outcomes and professional respect.\n",
            "\n",
            "4. **Risk-Taking and Decision-Making**: The high-risk nature of your decision-making aligns with research, where hypotheses need to be tested with various approaches, sometimes leading to unconventional methods. Your willingness to take calculated risks may foster innovative research ideas that could significantly advance the field.\n",
            "\n",
            "5. **Organizational Skills**: The ability to manage multiple tasks, from research to administrative duties, is essential for ornithologists. Your strong organizational skills will aid in maintaining accurate records, managing field research projects efficiently, and balancing collaborative efforts.\n",
            "\n",
            "### Cons\n",
            "\n",
            "1. **Uncertainty in Daily Routine**: While you mention a dislike for unpredictability, the nature of scientific research often involves unforeseen challenges. Fieldwork can bring about unexpected results or obstacles, demanding flexibility and resilience – which can be stressful for someone who favors predictability.\n",
            "\n",
            "2. **Need for Solo Work**: Ornithology may sometimes require solitary fieldwork or data analysis, which contrasts\n"
          ]
        }
      ]
    },
    {
      "cell_type": "markdown",
      "source": [
        "\n",
        "## Were there variations that didn't work well? i.e., where GPT either hallucinated or wrong <br>\n",
        "\n",
        "## What did you learn? <br>\n",
        "\n",
        "\n",
        "There are clear differences between the model 4o mini and 3-turbo. In the mini model, the classifications tend to be more volatile, and not always the text has the format desired.\n",
        "\n",
        "However, these models do a very good work, with reasonable responses. The prompts are very usefull to organise the output. In terms of format, the bulk operations seem to be more reliable, when comparing with the zero or one shot.\n",
        "\n",
        "The classification with the shots are very good. Although the temperature is 0.01, the new scores seem to reflect better the reality of the places, based on wikipedia descriptions. It is definitely a great way to run classifications on a business.\n",
        "\n",
        "\n"
      ],
      "metadata": {
        "id": "gFWlTiC9dEqV"
      },
      "id": "gFWlTiC9dEqV"
    },
    {
      "cell_type": "code",
      "source": [],
      "metadata": {
        "id": "p_KI7VMAdBiG"
      },
      "id": "p_KI7VMAdBiG",
      "execution_count": null,
      "outputs": []
    }
  ],
  "metadata": {
    "colab": {
      "provenance": []
    },
    "kernelspec": {
      "display_name": "Python 3 (ipykernel)",
      "language": "python",
      "name": "python3"
    },
    "language_info": {
      "codemirror_mode": {
        "name": "ipython",
        "version": 3
      },
      "file_extension": ".py",
      "mimetype": "text/x-python",
      "name": "python",
      "nbconvert_exporter": "python",
      "pygments_lexer": "ipython3",
      "version": "3.11.8"
    }
  },
  "nbformat": 4,
  "nbformat_minor": 5
}